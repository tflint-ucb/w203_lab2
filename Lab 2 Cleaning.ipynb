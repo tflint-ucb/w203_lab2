{
 "cells": [
  {
   "cell_type": "code",
   "execution_count": 1,
   "id": "260c7726",
   "metadata": {},
   "outputs": [],
   "source": [
    "import numpy as np\n",
    "import pandas as pd\n",
    "import json\n",
    "import ast\n",
    "\n",
    "movies_1 = pd.read_csv('train.csv')\n",
    "movies_2 = pd.read_csv('test.csv')\n",
    "movies = pd.concat([movies_1, movies_2])"
   ]
  },
  {
   "cell_type": "code",
   "execution_count": 2,
   "id": "f6218019",
   "metadata": {},
   "outputs": [
    {
     "data": {
      "text/html": [
       "<div>\n",
       "<style scoped>\n",
       "    .dataframe tbody tr th:only-of-type {\n",
       "        vertical-align: middle;\n",
       "    }\n",
       "\n",
       "    .dataframe tbody tr th {\n",
       "        vertical-align: top;\n",
       "    }\n",
       "\n",
       "    .dataframe thead th {\n",
       "        text-align: right;\n",
       "    }\n",
       "</style>\n",
       "<table border=\"1\" class=\"dataframe\">\n",
       "  <thead>\n",
       "    <tr style=\"text-align: right;\">\n",
       "      <th></th>\n",
       "      <th>id</th>\n",
       "      <th>budget</th>\n",
       "      <th>popularity</th>\n",
       "      <th>runtime</th>\n",
       "      <th>revenue</th>\n",
       "    </tr>\n",
       "  </thead>\n",
       "  <tbody>\n",
       "    <tr>\n",
       "      <th>count</th>\n",
       "      <td>5336.000000</td>\n",
       "      <td>5.336000e+03</td>\n",
       "      <td>5336.000000</td>\n",
       "      <td>5335.000000</td>\n",
       "      <td>2.171000e+03</td>\n",
       "    </tr>\n",
       "    <tr>\n",
       "      <th>mean</th>\n",
       "      <td>3695.403861</td>\n",
       "      <td>3.085726e+07</td>\n",
       "      <td>9.697664</td>\n",
       "      <td>109.754452</td>\n",
       "      <td>8.557184e+07</td>\n",
       "    </tr>\n",
       "    <tr>\n",
       "      <th>std</th>\n",
       "      <td>2131.727959</td>\n",
       "      <td>3.982784e+07</td>\n",
       "      <td>13.252210</td>\n",
       "      <td>21.964967</td>\n",
       "      <td>1.526493e+08</td>\n",
       "    </tr>\n",
       "    <tr>\n",
       "      <th>min</th>\n",
       "      <td>1.000000</td>\n",
       "      <td>1.000000e+00</td>\n",
       "      <td>0.000001</td>\n",
       "      <td>0.000000</td>\n",
       "      <td>1.000000e+00</td>\n",
       "    </tr>\n",
       "    <tr>\n",
       "      <th>25%</th>\n",
       "      <td>1851.500000</td>\n",
       "      <td>5.178750e+06</td>\n",
       "      <td>5.462924</td>\n",
       "      <td>95.000000</td>\n",
       "      <td>6.838288e+06</td>\n",
       "    </tr>\n",
       "    <tr>\n",
       "      <th>50%</th>\n",
       "      <td>3686.500000</td>\n",
       "      <td>1.700000e+07</td>\n",
       "      <td>8.387899</td>\n",
       "      <td>106.000000</td>\n",
       "      <td>2.874436e+07</td>\n",
       "    </tr>\n",
       "    <tr>\n",
       "      <th>75%</th>\n",
       "      <td>5533.250000</td>\n",
       "      <td>4.000000e+07</td>\n",
       "      <td>11.690594</td>\n",
       "      <td>120.000000</td>\n",
       "      <td>9.920791e+07</td>\n",
       "    </tr>\n",
       "    <tr>\n",
       "      <th>max</th>\n",
       "      <td>7398.000000</td>\n",
       "      <td>3.800000e+08</td>\n",
       "      <td>547.488298</td>\n",
       "      <td>338.000000</td>\n",
       "      <td>1.519558e+09</td>\n",
       "    </tr>\n",
       "  </tbody>\n",
       "</table>\n",
       "</div>"
      ],
      "text/plain": [
       "                id        budget   popularity      runtime       revenue\n",
       "count  5336.000000  5.336000e+03  5336.000000  5335.000000  2.171000e+03\n",
       "mean   3695.403861  3.085726e+07     9.697664   109.754452  8.557184e+07\n",
       "std    2131.727959  3.982784e+07    13.252210    21.964967  1.526493e+08\n",
       "min       1.000000  1.000000e+00     0.000001     0.000000  1.000000e+00\n",
       "25%    1851.500000  5.178750e+06     5.462924    95.000000  6.838288e+06\n",
       "50%    3686.500000  1.700000e+07     8.387899   106.000000  2.874436e+07\n",
       "75%    5533.250000  4.000000e+07    11.690594   120.000000  9.920791e+07\n",
       "max    7398.000000  3.800000e+08   547.488298   338.000000  1.519558e+09"
      ]
     },
     "execution_count": 2,
     "metadata": {},
     "output_type": "execute_result"
    }
   ],
   "source": [
    "movies = movies[movies['budget'] > 0]\n",
    "movies = movies[movies['genres'].notna()]\n",
    "movies = movies[movies['cast'].notna()]\n",
    "movies = movies[movies['crew'].notna()]\n",
    "movies.describe()"
   ]
  },
  {
   "cell_type": "code",
   "execution_count": 3,
   "id": "772478aa",
   "metadata": {},
   "outputs": [],
   "source": [
    "def CustomParser(data):\n",
    "    j1 = ast.literal_eval(data)\n",
    "    return j1\n",
    "movies['genres'] = movies.apply(lambda row: CustomParser(row['genres']), axis=1)\n",
    "movies['cast'] = movies.apply(lambda row: CustomParser(row['cast']), axis=1)\n",
    "movies['crew'] = movies.apply(lambda row: CustomParser(row['crew']), axis=1)"
   ]
  },
  {
   "cell_type": "code",
   "execution_count": 4,
   "id": "4cac8155",
   "metadata": {},
   "outputs": [],
   "source": [
    "def findDirectors(data):\n",
    "    directors = []\n",
    "    for i in range(len(data)):\n",
    "        if data[i]['job'] == 'Director':\n",
    "            directors.append(data[i]['name'])\n",
    "    return directors\n",
    "\n",
    "movies['directors'] = movies.apply(lambda row: findDirectors(row['crew']), axis=1)\n",
    "\n",
    "def findDirector(data):\n",
    "    for i in range(len(data)):\n",
    "        if data[i]['job'] == 'Director':\n",
    "            return data[i]['name']\n",
    "    return \"No Director\"\n",
    "\n",
    "movies['directors'] = movies.apply(lambda row: findDirector(row['crew']), axis=1)"
   ]
  },
  {
   "cell_type": "code",
   "execution_count": 5,
   "id": "5db325ac",
   "metadata": {},
   "outputs": [],
   "source": [
    "def getGenres(data):\n",
    "    genres = []\n",
    "    for i in range(len(data)):\n",
    "        genres.append(data[i]['name'])\n",
    "    return genres\n",
    "movies['genres'] = movies.apply(lambda row: getGenres(row['genres']), axis=1)"
   ]
  },
  {
   "cell_type": "code",
   "execution_count": 6,
   "id": "9ef52ff9",
   "metadata": {},
   "outputs": [],
   "source": [
    "def getActors(data):\n",
    "    actors = []\n",
    "    for i in range(len(data)):\n",
    "        actors.append(data[i]['name'])\n",
    "    return actors\n",
    "movies['actors'] = movies.apply(lambda row: getActors(row['cast']), axis=1)"
   ]
  },
  {
   "cell_type": "code",
   "execution_count": 7,
   "id": "fc6ea261",
   "metadata": {},
   "outputs": [],
   "source": [
    "movies.to_csv('Clean_Data_set.csv', index=False)"
   ]
  },
  {
   "cell_type": "code",
   "execution_count": null,
   "id": "d59caebc",
   "metadata": {},
   "outputs": [],
   "source": []
  }
 ],
 "metadata": {
  "kernelspec": {
   "display_name": "Python 3",
   "language": "python",
   "name": "python3"
  },
  "language_info": {
   "codemirror_mode": {
    "name": "ipython",
    "version": 3
   },
   "file_extension": ".py",
   "mimetype": "text/x-python",
   "name": "python",
   "nbconvert_exporter": "python",
   "pygments_lexer": "ipython3",
   "version": "3.9.5"
  }
 },
 "nbformat": 4,
 "nbformat_minor": 5
}
